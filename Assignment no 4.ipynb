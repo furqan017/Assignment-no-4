{
 "cells": [
  {
   "cell_type": "code",
   "execution_count": 1,
   "id": "313ce17c-8830-4184-b012-404e9cda9ff3",
   "metadata": {},
   "outputs": [],
   "source": [
    "import pandas as pd\n",
    "import matplotlib.pyplot as plt\n",
    "import seaborn as sns  "
   ]
  },
  {
   "cell_type": "code",
   "execution_count": 2,
   "id": "6ec1d939-a687-4e26-aa79-e6a607206705",
   "metadata": {},
   "outputs": [],
   "source": [
    "data = pd.read_csv('my_data.csv')\n"
   ]
  },
  {
   "cell_type": "code",
   "execution_count": 3,
   "id": "de4eda22-cc91-4f99-9610-bed2e51de7ad",
   "metadata": {},
   "outputs": [
    {
     "name": "stdout",
     "output_type": "stream",
     "text": [
      "   ID      Name\n",
      "0  12       Ali\n",
      "1  13  Abdullah\n",
      "2  33     Ammar\n",
      "3  77    Furqan\n",
      "<class 'pandas.core.frame.DataFrame'>\n",
      "RangeIndex: 4 entries, 0 to 3\n",
      "Data columns (total 2 columns):\n",
      " #   Column  Non-Null Count  Dtype \n",
      "---  ------  --------------  ----- \n",
      " 0   ID      4 non-null      int64 \n",
      " 1   Name    4 non-null      object\n",
      "dtypes: int64(1), object(1)\n",
      "memory usage: 196.0+ bytes\n",
      "None\n",
      "              ID\n",
      "count   4.000000\n",
      "mean   33.750000\n",
      "std    30.412443\n",
      "min    12.000000\n",
      "25%    12.750000\n",
      "50%    23.000000\n",
      "75%    44.000000\n",
      "max    77.000000\n"
     ]
    }
   ],
   "source": [
    "# Explore the data\n",
    "print(data.head()) \n",
    "print(data.info())  \n",
    "print(data.describe())  "
   ]
  },
  {
   "cell_type": "code",
   "execution_count": 4,
   "id": "f84f6785-92bc-438a-8e20-61ee19959027",
   "metadata": {},
   "outputs": [],
   "source": [
    "data = data.dropna()  \n"
   ]
  },
  {
   "cell_type": "code",
   "execution_count": 17,
   "id": "985aa12d-7e7b-415a-904f-45324eddfc34",
   "metadata": {},
   "outputs": [
    {
     "data": {
      "image/png": "[encoded data removed]",
      "text/plain": [
       "<Figure size 640x480 with 1 Axes>"
      ]
     },
     "metadata": {},
     "output_type": "display_data"
    }
   ],
   "source": [
    "# Bar chart for name distribution\n",
    "data['Name'].value_counts().plot(kind='bar')  # Count occurrences of each name\n",
    "plt.xlabel('Name')\n",
    "plt.ylabel('Count')\n",
    "plt.title('Distribution of Names')\n",
    "plt.show()\n"
   ]
  },
  {
   "cell_type": "code",
   "execution_count": 18,
   "id": "45b2a585-c2fe-4b75-b25b-e541a444f126",
   "metadata": {},
   "outputs": [
    {
     "name": "stdout",
     "output_type": "stream",
     "text": [
      "There are 4 unique names in the data.\n",
      "Ali appears 1 times.\n"
     ]
    }
   ],
   "source": [
    "# Analyze the name distribution chart\n",
    "# - How many unique names are there?\n",
    "# - Which name appears most frequently?\n",
    "# - Are there any rare names?\n",
    "\n",
    "# Example analysis:\n",
    "number_of_unique_names = len(data['Name'].unique())\n",
    "most_frequent_name = data['Name'].value_counts().idxmax()\n",
    "number_of_occurrences = data['Name'].value_counts().max()\n",
    "\n",
    "print(f\"There are {number_of_unique_names} unique names in the data.\")\n",
    "print(f\"{most_frequent_name} appears {number_of_occurrences} times.\")\n",
    "\n",
    "# You can add more analysis based on your observations and data.\n"
   ]
  },
  {
   "cell_type": "code",
   "execution_count": null,
   "id": "62987dbc-c066-44cc-82b3-58478422af8b",
   "metadata": {},
   "outputs": [],
   "source": []
  }
 ],
 "metadata": {
  "kernelspec": {
   "display_name": "Python 3 (ipykernel)",
   "language": "python",
   "name": "python3"
  },
  "language_info": {
   "codemirror_mode": {
    "name": "ipython",
    "version": 3
   },
   "file_extension": ".py",
   "mimetype": "text/x-python",
   "name": "python",
   "nbconvert_exporter": "python",
   "pygments_lexer": "ipython3",
   "version": "3.11.7"
  }
 },
 "nbformat": 4,
 "nbformat_minor": 5
}
